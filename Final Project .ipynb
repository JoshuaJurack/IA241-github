{
 "cells": [
  {
   "cell_type": "markdown",
   "id": "250fea67",
   "metadata": {},
   "source": [
    "# Brazil COVID-19 Data 2020 - Final Project\n"
   ]
  },
  {
   "cell_type": "markdown",
   "id": "eece23a8",
   "metadata": {},
   "source": [
    "By Joshua Jurack"
   ]
  },
  {
   "attachments": {
    "download1.png": {
     "image/png": "[encoded data removed]"
    }
   },
   "cell_type": "markdown",
   "id": "db0b93ca",
   "metadata": {},
   "source": [
    "![download1.png](attachment:download1.png)"
   ]
  },
  {
   "cell_type": "markdown",
   "id": "6f69d4fd",
   "metadata": {},
   "source": [
    "# Data Source "
   ]
  },
  {
   "cell_type": "markdown",
   "id": "aac52edb",
   "metadata": {},
   "source": [
    "The data is downloaded from [European Centre for Disease Prevention and Control](https://www.ecdc.europa.eu/en/publications-data/download-todays-data-geographic-distribution-covid-19-cases-worldwide). "
   ]
  },
  {
   "cell_type": "markdown",
   "id": "a9c71818",
   "metadata": {},
   "source": [
    "# Background of the COVID-19 Pandemic"
   ]
  },
  {
   "cell_type": "markdown",
   "id": "5c89222c",
   "metadata": {},
   "source": [
    "COVID-19, also known as the coronavirus, is a severe acute respiratory syndrome. It is believed to have originated in Wuhan, China in December of 2019. Symptoms include fever, dry cough, fatigue, headache, heavy breathing, and loss of taste or smell. Often, symptoms begin anywhere from one to fourteen days after the initial exposure. Transmission of the disease are found to be through close contact with another, causing small droplets of the virus to spread through one’s nose and mouth as they breathe, cough, sneeze, etc. Due to this information a worldwide mandate was released to wear masks at all times when indoors and outdoors in addition to a “social distancing” protocol, encouraging others to remain six feet apart from each other. \n",
    "\n",
    "Now with fewer cases and improvements in mitigation strategies such as masking and vaccinations, it is important to look back to the origins of the virus to see how far we have come as a global community. "
   ]
  },
  {
   "cell_type": "code",
   "execution_count": 1,
   "id": "b69db7f8",
   "metadata": {},
   "outputs": [],
   "source": [
    "%matplotlib inline\n",
    "import pandas"
   ]
  },
  {
   "cell_type": "markdown",
   "id": "a83c89e1",
   "metadata": {},
   "source": [
    "# A Quick View of the Data\n"
   ]
  },
  {
   "cell_type": "code",
   "execution_count": 2,
   "id": "d872347f",
   "metadata": {},
   "outputs": [
    {
     "data": {
      "text/html": [
       "<div>\n",
       "<style scoped>\n",
       "    .dataframe tbody tr th:only-of-type {\n",
       "        vertical-align: middle;\n",
       "    }\n",
       "\n",
       "    .dataframe tbody tr th {\n",
       "        vertical-align: top;\n",
       "    }\n",
       "\n",
       "    .dataframe thead th {\n",
       "        text-align: right;\n",
       "    }\n",
       "</style>\n",
       "<table border=\"1\" class=\"dataframe\">\n",
       "  <thead>\n",
       "    <tr style=\"text-align: right;\">\n",
       "      <th></th>\n",
       "      <th>dateRep</th>\n",
       "      <th>day</th>\n",
       "      <th>month</th>\n",
       "      <th>year</th>\n",
       "      <th>cases</th>\n",
       "      <th>deaths</th>\n",
       "      <th>countriesAndTerritories</th>\n",
       "      <th>geoId</th>\n",
       "      <th>countryterritoryCode</th>\n",
       "      <th>popData2019</th>\n",
       "      <th>continentExp</th>\n",
       "      <th>Cumulative_number_for_14_days_of_COVID-19_cases_per_100000</th>\n",
       "    </tr>\n",
       "  </thead>\n",
       "  <tbody>\n",
       "    <tr>\n",
       "      <th>0</th>\n",
       "      <td>14/12/2020</td>\n",
       "      <td>14</td>\n",
       "      <td>12</td>\n",
       "      <td>2020</td>\n",
       "      <td>746</td>\n",
       "      <td>6</td>\n",
       "      <td>Afghanistan</td>\n",
       "      <td>AF</td>\n",
       "      <td>AFG</td>\n",
       "      <td>38041757.0</td>\n",
       "      <td>Asia</td>\n",
       "      <td>9.013779</td>\n",
       "    </tr>\n",
       "    <tr>\n",
       "      <th>1</th>\n",
       "      <td>13/12/2020</td>\n",
       "      <td>13</td>\n",
       "      <td>12</td>\n",
       "      <td>2020</td>\n",
       "      <td>298</td>\n",
       "      <td>9</td>\n",
       "      <td>Afghanistan</td>\n",
       "      <td>AF</td>\n",
       "      <td>AFG</td>\n",
       "      <td>38041757.0</td>\n",
       "      <td>Asia</td>\n",
       "      <td>7.052776</td>\n",
       "    </tr>\n",
       "    <tr>\n",
       "      <th>2</th>\n",
       "      <td>2020-12-12 00:00:00</td>\n",
       "      <td>12</td>\n",
       "      <td>12</td>\n",
       "      <td>2020</td>\n",
       "      <td>113</td>\n",
       "      <td>11</td>\n",
       "      <td>Afghanistan</td>\n",
       "      <td>AF</td>\n",
       "      <td>AFG</td>\n",
       "      <td>38041757.0</td>\n",
       "      <td>Asia</td>\n",
       "      <td>6.868768</td>\n",
       "    </tr>\n",
       "    <tr>\n",
       "      <th>3</th>\n",
       "      <td>2020-11-12 00:00:00</td>\n",
       "      <td>11</td>\n",
       "      <td>12</td>\n",
       "      <td>2020</td>\n",
       "      <td>63</td>\n",
       "      <td>10</td>\n",
       "      <td>Afghanistan</td>\n",
       "      <td>AF</td>\n",
       "      <td>AFG</td>\n",
       "      <td>38041757.0</td>\n",
       "      <td>Asia</td>\n",
       "      <td>7.134266</td>\n",
       "    </tr>\n",
       "    <tr>\n",
       "      <th>4</th>\n",
       "      <td>2020-10-12 00:00:00</td>\n",
       "      <td>10</td>\n",
       "      <td>12</td>\n",
       "      <td>2020</td>\n",
       "      <td>202</td>\n",
       "      <td>16</td>\n",
       "      <td>Afghanistan</td>\n",
       "      <td>AF</td>\n",
       "      <td>AFG</td>\n",
       "      <td>38041757.0</td>\n",
       "      <td>Asia</td>\n",
       "      <td>6.968658</td>\n",
       "    </tr>\n",
       "    <tr>\n",
       "      <th>5</th>\n",
       "      <td>2020-09-12 00:00:00</td>\n",
       "      <td>9</td>\n",
       "      <td>12</td>\n",
       "      <td>2020</td>\n",
       "      <td>135</td>\n",
       "      <td>13</td>\n",
       "      <td>Afghanistan</td>\n",
       "      <td>AF</td>\n",
       "      <td>AFG</td>\n",
       "      <td>38041757.0</td>\n",
       "      <td>Asia</td>\n",
       "      <td>6.963401</td>\n",
       "    </tr>\n",
       "    <tr>\n",
       "      <th>6</th>\n",
       "      <td>2020-08-12 00:00:00</td>\n",
       "      <td>8</td>\n",
       "      <td>12</td>\n",
       "      <td>2020</td>\n",
       "      <td>200</td>\n",
       "      <td>6</td>\n",
       "      <td>Afghanistan</td>\n",
       "      <td>AF</td>\n",
       "      <td>AFG</td>\n",
       "      <td>38041757.0</td>\n",
       "      <td>Asia</td>\n",
       "      <td>7.094835</td>\n",
       "    </tr>\n",
       "    <tr>\n",
       "      <th>7</th>\n",
       "      <td>2020-07-12 00:00:00</td>\n",
       "      <td>7</td>\n",
       "      <td>12</td>\n",
       "      <td>2020</td>\n",
       "      <td>210</td>\n",
       "      <td>26</td>\n",
       "      <td>Afghanistan</td>\n",
       "      <td>AF</td>\n",
       "      <td>AFG</td>\n",
       "      <td>38041757.0</td>\n",
       "      <td>Asia</td>\n",
       "      <td>7.215755</td>\n",
       "    </tr>\n",
       "    <tr>\n",
       "      <th>8</th>\n",
       "      <td>2020-06-12 00:00:00</td>\n",
       "      <td>6</td>\n",
       "      <td>12</td>\n",
       "      <td>2020</td>\n",
       "      <td>234</td>\n",
       "      <td>10</td>\n",
       "      <td>Afghanistan</td>\n",
       "      <td>AF</td>\n",
       "      <td>AFG</td>\n",
       "      <td>38041757.0</td>\n",
       "      <td>Asia</td>\n",
       "      <td>7.326160</td>\n",
       "    </tr>\n",
       "    <tr>\n",
       "      <th>9</th>\n",
       "      <td>2020-05-12 00:00:00</td>\n",
       "      <td>5</td>\n",
       "      <td>12</td>\n",
       "      <td>2020</td>\n",
       "      <td>235</td>\n",
       "      <td>18</td>\n",
       "      <td>Afghanistan</td>\n",
       "      <td>AF</td>\n",
       "      <td>AFG</td>\n",
       "      <td>38041757.0</td>\n",
       "      <td>Asia</td>\n",
       "      <td>7.115865</td>\n",
       "    </tr>\n",
       "  </tbody>\n",
       "</table>\n",
       "</div>"
      ],
      "text/plain": [
       "               dateRep  day  month  year  cases  deaths  \\\n",
       "0           14/12/2020   14     12  2020    746       6   \n",
       "1           13/12/2020   13     12  2020    298       9   \n",
       "2  2020-12-12 00:00:00   12     12  2020    113      11   \n",
       "3  2020-11-12 00:00:00   11     12  2020     63      10   \n",
       "4  2020-10-12 00:00:00   10     12  2020    202      16   \n",
       "5  2020-09-12 00:00:00    9     12  2020    135      13   \n",
       "6  2020-08-12 00:00:00    8     12  2020    200       6   \n",
       "7  2020-07-12 00:00:00    7     12  2020    210      26   \n",
       "8  2020-06-12 00:00:00    6     12  2020    234      10   \n",
       "9  2020-05-12 00:00:00    5     12  2020    235      18   \n",
       "\n",
       "  countriesAndTerritories geoId countryterritoryCode  popData2019  \\\n",
       "0             Afghanistan    AF                  AFG   38041757.0   \n",
       "1             Afghanistan    AF                  AFG   38041757.0   \n",
       "2             Afghanistan    AF                  AFG   38041757.0   \n",
       "3             Afghanistan    AF                  AFG   38041757.0   \n",
       "4             Afghanistan    AF                  AFG   38041757.0   \n",
       "5             Afghanistan    AF                  AFG   38041757.0   \n",
       "6             Afghanistan    AF                  AFG   38041757.0   \n",
       "7             Afghanistan    AF                  AFG   38041757.0   \n",
       "8             Afghanistan    AF                  AFG   38041757.0   \n",
       "9             Afghanistan    AF                  AFG   38041757.0   \n",
       "\n",
       "  continentExp  Cumulative_number_for_14_days_of_COVID-19_cases_per_100000  \n",
       "0         Asia                                           9.013779           \n",
       "1         Asia                                           7.052776           \n",
       "2         Asia                                           6.868768           \n",
       "3         Asia                                           7.134266           \n",
       "4         Asia                                           6.968658           \n",
       "5         Asia                                           6.963401           \n",
       "6         Asia                                           7.094835           \n",
       "7         Asia                                           7.215755           \n",
       "8         Asia                                           7.326160           \n",
       "9         Asia                                           7.115865           "
      ]
     },
     "execution_count": 2,
     "metadata": {},
     "output_type": "execute_result"
    }
   ],
   "source": [
    "df = pandas.read_excel('s3://ia241-2-spring-2022-jurack/covid_data.xls')\n",
    "df[:10] #the top 10 rows"
   ]
  },
  {
   "cell_type": "markdown",
   "id": "dc553b60",
   "metadata": {},
   "source": [
    "# The Top 10 Countries with the Highest Deaths in 2020"
   ]
  },
  {
   "cell_type": "code",
   "execution_count": 3,
   "id": "2fb01afe",
   "metadata": {},
   "outputs": [
    {
     "data": {
      "text/plain": [
       "<AxesSubplot:xlabel='countriesAndTerritories'>"
      ]
     },
     "execution_count": 3,
     "metadata": {},
     "output_type": "execute_result"
    },
    {
     "data": {
      "image/png": "[encoded data removed]",
      "text/plain": [
       "<Figure size 432x288 with 1 Axes>"
      ]
     },
     "metadata": {
      "needs_background": "light"
     },
     "output_type": "display_data"
    }
   ],
   "source": [
    "sum_death_by_country = df.groupby('countriesAndTerritories').sum()['deaths']\n",
    "sum_death_by_country.nlargest(10).plot.bar()"
   ]
  },
  {
   "cell_type": "markdown",
   "id": "ea52a310",
   "metadata": {},
   "source": [
    "# The Top 10 Countries with the Highest Cases in 2020"
   ]
  },
  {
   "cell_type": "code",
   "execution_count": 4,
   "id": "0c71fff7",
   "metadata": {},
   "outputs": [
    {
     "data": {
      "text/plain": [
       "<AxesSubplot:xlabel='countriesAndTerritories'>"
      ]
     },
     "execution_count": 4,
     "metadata": {},
     "output_type": "execute_result"
    },
    {
     "data": {
      "image/png": "[encoded data removed]",
      "text/plain": [
       "<Figure size 432x288 with 1 Axes>"
      ]
     },
     "metadata": {
      "needs_background": "light"
     },
     "output_type": "display_data"
    }
   ],
   "source": [
    "sum_cases_by_country = df.groupby('countriesAndTerritories').sum()['cases']\n",
    "sum_cases_by_country.nlargest(10).plot.bar()"
   ]
  },
  {
   "cell_type": "markdown",
   "id": "d9894694",
   "metadata": {},
   "source": [
    "Brazil as a country had the third highest number of cases in the world following only the United States and India. Brazil also had the second highest number of deaths with 175,000 as of December 2020, only trailing the United States."
   ]
  },
  {
   "cell_type": "markdown",
   "id": "4b89697a",
   "metadata": {},
   "source": [
    "# Brazil Data"
   ]
  },
  {
   "cell_type": "code",
   "execution_count": 5,
   "id": "a2811873",
   "metadata": {},
   "outputs": [
    {
     "data": {
      "text/html": [
       "<div>\n",
       "<style scoped>\n",
       "    .dataframe tbody tr th:only-of-type {\n",
       "        vertical-align: middle;\n",
       "    }\n",
       "\n",
       "    .dataframe tbody tr th {\n",
       "        vertical-align: top;\n",
       "    }\n",
       "\n",
       "    .dataframe thead th {\n",
       "        text-align: right;\n",
       "    }\n",
       "</style>\n",
       "<table border=\"1\" class=\"dataframe\">\n",
       "  <thead>\n",
       "    <tr style=\"text-align: right;\">\n",
       "      <th></th>\n",
       "      <th>dateRep</th>\n",
       "      <th>day</th>\n",
       "      <th>month</th>\n",
       "      <th>year</th>\n",
       "      <th>cases</th>\n",
       "      <th>deaths</th>\n",
       "      <th>countriesAndTerritories</th>\n",
       "      <th>geoId</th>\n",
       "      <th>countryterritoryCode</th>\n",
       "      <th>popData2019</th>\n",
       "      <th>continentExp</th>\n",
       "      <th>Cumulative_number_for_14_days_of_COVID-19_cases_per_100000</th>\n",
       "    </tr>\n",
       "  </thead>\n",
       "  <tbody>\n",
       "    <tr>\n",
       "      <th>7991</th>\n",
       "      <td>14/12/2020</td>\n",
       "      <td>14</td>\n",
       "      <td>12</td>\n",
       "      <td>2020</td>\n",
       "      <td>21825</td>\n",
       "      <td>279</td>\n",
       "      <td>Brazil</td>\n",
       "      <td>BR</td>\n",
       "      <td>BRA</td>\n",
       "      <td>211049519.0</td>\n",
       "      <td>America</td>\n",
       "      <td>278.234228</td>\n",
       "    </tr>\n",
       "    <tr>\n",
       "      <th>7992</th>\n",
       "      <td>13/12/2020</td>\n",
       "      <td>13</td>\n",
       "      <td>12</td>\n",
       "      <td>2020</td>\n",
       "      <td>43900</td>\n",
       "      <td>686</td>\n",
       "      <td>Brazil</td>\n",
       "      <td>BR</td>\n",
       "      <td>BRA</td>\n",
       "      <td>211049519.0</td>\n",
       "      <td>America</td>\n",
       "      <td>279.486541</td>\n",
       "    </tr>\n",
       "    <tr>\n",
       "      <th>7993</th>\n",
       "      <td>2020-12-12 00:00:00</td>\n",
       "      <td>12</td>\n",
       "      <td>12</td>\n",
       "      <td>2020</td>\n",
       "      <td>54428</td>\n",
       "      <td>672</td>\n",
       "      <td>Brazil</td>\n",
       "      <td>BR</td>\n",
       "      <td>BRA</td>\n",
       "      <td>211049519.0</td>\n",
       "      <td>America</td>\n",
       "      <td>283.287544</td>\n",
       "    </tr>\n",
       "    <tr>\n",
       "      <th>7994</th>\n",
       "      <td>2020-11-12 00:00:00</td>\n",
       "      <td>11</td>\n",
       "      <td>12</td>\n",
       "      <td>2020</td>\n",
       "      <td>53347</td>\n",
       "      <td>770</td>\n",
       "      <td>Brazil</td>\n",
       "      <td>BR</td>\n",
       "      <td>BRA</td>\n",
       "      <td>211049519.0</td>\n",
       "      <td>America</td>\n",
       "      <td>273.669896</td>\n",
       "    </tr>\n",
       "    <tr>\n",
       "      <th>7995</th>\n",
       "      <td>2020-10-12 00:00:00</td>\n",
       "      <td>10</td>\n",
       "      <td>12</td>\n",
       "      <td>2020</td>\n",
       "      <td>53453</td>\n",
       "      <td>836</td>\n",
       "      <td>Brazil</td>\n",
       "      <td>BR</td>\n",
       "      <td>BRA</td>\n",
       "      <td>211049519.0</td>\n",
       "      <td>America</td>\n",
       "      <td>266.215248</td>\n",
       "    </tr>\n",
       "    <tr>\n",
       "      <th>7996</th>\n",
       "      <td>2020-09-12 00:00:00</td>\n",
       "      <td>9</td>\n",
       "      <td>12</td>\n",
       "      <td>2020</td>\n",
       "      <td>51088</td>\n",
       "      <td>842</td>\n",
       "      <td>Brazil</td>\n",
       "      <td>BR</td>\n",
       "      <td>BRA</td>\n",
       "      <td>211049519.0</td>\n",
       "      <td>America</td>\n",
       "      <td>263.583164</td>\n",
       "    </tr>\n",
       "    <tr>\n",
       "      <th>7997</th>\n",
       "      <td>2020-08-12 00:00:00</td>\n",
       "      <td>8</td>\n",
       "      <td>12</td>\n",
       "      <td>2020</td>\n",
       "      <td>20371</td>\n",
       "      <td>376</td>\n",
       "      <td>Brazil</td>\n",
       "      <td>BR</td>\n",
       "      <td>BRA</td>\n",
       "      <td>211049519.0</td>\n",
       "      <td>America</td>\n",
       "      <td>254.112401</td>\n",
       "    </tr>\n",
       "    <tr>\n",
       "      <th>7998</th>\n",
       "      <td>2020-07-12 00:00:00</td>\n",
       "      <td>7</td>\n",
       "      <td>12</td>\n",
       "      <td>2020</td>\n",
       "      <td>26363</td>\n",
       "      <td>313</td>\n",
       "      <td>Brazil</td>\n",
       "      <td>BR</td>\n",
       "      <td>BRA</td>\n",
       "      <td>211049519.0</td>\n",
       "      <td>America</td>\n",
       "      <td>252.139404</td>\n",
       "    </tr>\n",
       "    <tr>\n",
       "      <th>7999</th>\n",
       "      <td>2020-06-12 00:00:00</td>\n",
       "      <td>6</td>\n",
       "      <td>12</td>\n",
       "      <td>2020</td>\n",
       "      <td>43209</td>\n",
       "      <td>664</td>\n",
       "      <td>Brazil</td>\n",
       "      <td>BR</td>\n",
       "      <td>BRA</td>\n",
       "      <td>211049519.0</td>\n",
       "      <td>America</td>\n",
       "      <td>248.468228</td>\n",
       "    </tr>\n",
       "    <tr>\n",
       "      <th>8000</th>\n",
       "      <td>2020-05-12 00:00:00</td>\n",
       "      <td>5</td>\n",
       "      <td>12</td>\n",
       "      <td>2020</td>\n",
       "      <td>46884</td>\n",
       "      <td>694</td>\n",
       "      <td>Brazil</td>\n",
       "      <td>BR</td>\n",
       "      <td>BRA</td>\n",
       "      <td>211049519.0</td>\n",
       "      <td>America</td>\n",
       "      <td>243.451870</td>\n",
       "    </tr>\n",
       "  </tbody>\n",
       "</table>\n",
       "</div>"
      ],
      "text/plain": [
       "                  dateRep  day  month  year  cases  deaths  \\\n",
       "7991           14/12/2020   14     12  2020  21825     279   \n",
       "7992           13/12/2020   13     12  2020  43900     686   \n",
       "7993  2020-12-12 00:00:00   12     12  2020  54428     672   \n",
       "7994  2020-11-12 00:00:00   11     12  2020  53347     770   \n",
       "7995  2020-10-12 00:00:00   10     12  2020  53453     836   \n",
       "7996  2020-09-12 00:00:00    9     12  2020  51088     842   \n",
       "7997  2020-08-12 00:00:00    8     12  2020  20371     376   \n",
       "7998  2020-07-12 00:00:00    7     12  2020  26363     313   \n",
       "7999  2020-06-12 00:00:00    6     12  2020  43209     664   \n",
       "8000  2020-05-12 00:00:00    5     12  2020  46884     694   \n",
       "\n",
       "     countriesAndTerritories geoId countryterritoryCode  popData2019  \\\n",
       "7991                  Brazil    BR                  BRA  211049519.0   \n",
       "7992                  Brazil    BR                  BRA  211049519.0   \n",
       "7993                  Brazil    BR                  BRA  211049519.0   \n",
       "7994                  Brazil    BR                  BRA  211049519.0   \n",
       "7995                  Brazil    BR                  BRA  211049519.0   \n",
       "7996                  Brazil    BR                  BRA  211049519.0   \n",
       "7997                  Brazil    BR                  BRA  211049519.0   \n",
       "7998                  Brazil    BR                  BRA  211049519.0   \n",
       "7999                  Brazil    BR                  BRA  211049519.0   \n",
       "8000                  Brazil    BR                  BRA  211049519.0   \n",
       "\n",
       "     continentExp  Cumulative_number_for_14_days_of_COVID-19_cases_per_100000  \n",
       "7991      America                                         278.234228           \n",
       "7992      America                                         279.486541           \n",
       "7993      America                                         283.287544           \n",
       "7994      America                                         273.669896           \n",
       "7995      America                                         266.215248           \n",
       "7996      America                                         263.583164           \n",
       "7997      America                                         254.112401           \n",
       "7998      America                                         252.139404           \n",
       "7999      America                                         248.468228           \n",
       "8000      America                                         243.451870           "
      ]
     },
     "execution_count": 5,
     "metadata": {},
     "output_type": "execute_result"
    }
   ],
   "source": [
    "brazil_data = df.loc[ df['countriesAndTerritories']=='Brazil' ]\n",
    "brazil_data[:10] #the top 10 rows"
   ]
  },
  {
   "cell_type": "markdown",
   "id": "b6d22b35",
   "metadata": {},
   "source": [
    "# Brazil's Number of Deaths in 2020 (as of Dec 2020)\n"
   ]
  },
  {
   "cell_type": "code",
   "execution_count": 6,
   "id": "05d92e00",
   "metadata": {},
   "outputs": [
    {
     "data": {
      "text/plain": [
       "month\n",
       "1         0\n",
       "2         0\n",
       "3       159\n",
       "4      5307\n",
       "5     23368\n",
       "6     29480\n",
       "7     32949\n",
       "8     29565\n",
       "9     22093\n",
       "10    16556\n",
       "11    13356\n",
       "12     8569\n",
       "Name: deaths, dtype: int64"
      ]
     },
     "execution_count": 6,
     "metadata": {},
     "output_type": "execute_result"
    }
   ],
   "source": [
    "month_deaths=brazil_data.groupby('month').sum()['deaths']\n",
    "month_deaths[:]"
   ]
  },
  {
   "cell_type": "markdown",
   "id": "2481a5db",
   "metadata": {},
   "source": [
    "Brazil started out with very few deaths during the first three months of 2020. It saw an uptick in deaths starting in April of 2020 with 5,307 deaths with the largest number of deaths occurring between May and September with averages of between 22,093-32,949 deaths per month. The number of deaths decreased from October to December of 2020, ending the year with 8,569 deaths in the month of December."
   ]
  },
  {
   "cell_type": "markdown",
   "id": "1fa32229",
   "metadata": {},
   "source": [
    "# Brazil's Number of Cases in 2020 (as of Dec 2020)\n"
   ]
  },
  {
   "cell_type": "code",
   "execution_count": 13,
   "id": "e7432d28",
   "metadata": {},
   "outputs": [
    {
     "data": {
      "text/plain": [
       "month\n",
       "1           0\n",
       "2           1\n",
       "3        4578\n",
       "4       73583\n",
       "5      420278\n",
       "6      869755\n",
       "7     1241907\n",
       "8     1252209\n",
       "9      915211\n",
       "10     739136\n",
       "11     798082\n",
       "12     587212\n",
       "Name: cases, dtype: int64"
      ]
     },
     "execution_count": 13,
     "metadata": {},
     "output_type": "execute_result"
    }
   ],
   "source": [
    "month_cases=brazil_data.groupby('month').sum()['cases']\n",
    "month_cases[:]"
   ]
  },
  {
   "cell_type": "markdown",
   "id": "e1e67621",
   "metadata": {},
   "source": [
    "Brazil started out with very few cases during the first three months of 2020. It saw an uptick in cases starting in April of 2020 with 73,583 cases with the largest number of deaths occurring between June and November with averages of between 739,136-1,252,209 per month. Brazil had a whopping number of cases during July and August of 2020 with both of those months being well over 1,000,000 cases of COVID-19. The number of cases started to decline in September of 2020 and by the end of December the number of cases had gone down to 587,212."
   ]
  },
  {
   "cell_type": "markdown",
   "id": "619a6fc7",
   "metadata": {},
   "source": [
    "# Highest Death Rate by Months in Brazil due to COVID-19 (as of Dec 2020)\n"
   ]
  },
  {
   "cell_type": "code",
   "execution_count": 23,
   "id": "9626b515",
   "metadata": {},
   "outputs": [
    {
     "data": {
      "text/plain": [
       "<AxesSubplot:xlabel='month'>"
      ]
     },
     "execution_count": 23,
     "metadata": {},
     "output_type": "execute_result"
    },
    {
     "data": {
      "image/png": "[encoded data removed]",
      "text/plain": [
       "<Figure size 432x288 with 1 Axes>"
      ]
     },
     "metadata": {
      "needs_background": "light"
     },
     "output_type": "display_data"
    }
   ],
   "source": [
    "month_deaths.plot(x='month',y='deaths')"
   ]
  },
  {
   "cell_type": "markdown",
   "id": "346cbc6c",
   "metadata": {},
   "source": [
    "With the death rate by month visualized in a line chart it is easy to see the sharp increase in deaths from April to June. The number of deaths reached its peak during the month of June until August of 2020 and then saw a decline from August to October. There was once again a small increase from October to November and then another decline from November to December to finish off the year of 2020."
   ]
  },
  {
   "cell_type": "markdown",
   "id": "6f128ed4",
   "metadata": {},
   "source": [
    "# How the Number of Cases is Related to the Number of Deaths in Brazil\n"
   ]
  },
  {
   "cell_type": "code",
   "execution_count": 16,
   "id": "25afa33e",
   "metadata": {},
   "outputs": [
    {
     "data": {
      "text/plain": [
       "<AxesSubplot:xlabel='cases', ylabel='deaths'>"
      ]
     },
     "execution_count": 16,
     "metadata": {},
     "output_type": "execute_result"
    },
    {
     "data": {
      "image/png": "[encoded data removed]",
      "text/plain": [
       "<Figure size 432x288 with 1 Axes>"
      ]
     },
     "metadata": {
      "needs_background": "light"
     },
     "output_type": "display_data"
    }
   ],
   "source": [
    "brazil_data.plot.scatter(x='cases',y='deaths')"
   ]
  },
  {
   "cell_type": "markdown",
   "id": "d23c3349",
   "metadata": {},
   "source": [
    "As can be seen in the scatterplot, the correlation between the number of cases and the number of deaths in Brazil is positive. As the cases increased in Brazil in 2020 the number of deaths did so as well with the highest totals of cases being around 1,000,000 in the month of July and the highest totals of deaths being around 30,000 in the month of July also."
   ]
  },
  {
   "cell_type": "markdown",
   "id": "5267c38c",
   "metadata": {},
   "source": [
    "# Conclusions, Limitations, and Suggestions  "
   ]
  },
  {
   "cell_type": "markdown",
   "id": "ecd64311",
   "metadata": {},
   "source": [
    "Conclusion:\n",
    "\n",
    "We can conclude that July contained the most COVID-19 deaths in Brazil in 2020. We can also observe the trend of cases in Brazil in 2020 began rising in April, peaked in July/August, fell in the fall, and then began to rise again in late November/early December. Lastly we can see the relationship between the number of cases and deaths and observe that the majority of COVID-19 deaths in Brazil occured following in the latter months of 2020.\n",
    "\n",
    "Limitations:\n",
    "\n",
    "Some limitations of the project are that I could only use codes and functions that we went over in class and labs. Another limitation is my lack of coding experience, as this class is the first time I have ever coded.\n",
    "\n",
    "Suggestions for Improvement:\n",
    "\n",
    "The only suggestion for improvement related to the visuals. Better labels on the y-axis and x-axis would be beneficial to understanding the graph, but I was not able to figure out how to add a label and numbers."
   ]
  },
  {
   "cell_type": "markdown",
   "id": "243f81f6",
   "metadata": {},
   "source": [
    "# Author Information "
   ]
  },
  {
   "cell_type": "markdown",
   "id": "019b7abb",
   "metadata": {},
   "source": [
    "Joshua Jurack\n",
    "\n",
    "Email: jurackjp@dukes.jmu.edu\n",
    "\n",
    "Phone: 703-595-3954"
   ]
  },
  {
   "cell_type": "code",
   "execution_count": null,
   "id": "18b3f73a",
   "metadata": {},
   "outputs": [],
   "source": []
  }
 ],
 "metadata": {
  "kernelspec": {
   "display_name": "conda_python3",
   "language": "python",
   "name": "conda_python3"
  },
  "language_info": {
   "codemirror_mode": {
    "name": "ipython",
    "version": 3
   },
   "file_extension": ".py",
   "mimetype": "text/x-python",
   "name": "python",
   "nbconvert_exporter": "python",
   "pygments_lexer": "ipython3",
   "version": "3.6.13"
  }
 },
 "nbformat": 4,
 "nbformat_minor": 5
}
